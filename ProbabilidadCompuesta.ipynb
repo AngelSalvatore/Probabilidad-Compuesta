{
  "cells": [
    {
      "metadata": {
        "trusted": true
      },
      "cell_type": "code",
      "source": "#ProbabilidadCompuesta\n#Probabilidad de sacar dos bolas del mismo color con repetición\n#2 Blancas o 2 negras\n#Existen 6 blancas y 4 negras\n\nBB = 6\nBN = 4\nBT = BB + BN\n\n#P(BB,BB) O P(BN, BN)\n#Operaciones \"o = +\" e \"y = *\"\nMismoColor = BB/BT * (BB-1)/(BT-1) + BN/BT * (BN-1)/(BT-1)\nMismoColorPorcentaje = MismoColor*100\nprint(\"La probabilidad que sea del mismo color es\", MismoColorPorcentaje, \"%\")",
      "execution_count": 5,
      "outputs": [
        {
          "output_type": "stream",
          "text": "La probabilidad que sea del mismo color es 46.666666666666664 %\n",
          "name": "stdout"
        }
      ]
    },
    {
      "metadata": {
        "trusted": true
      },
      "cell_type": "code",
      "source": "",
      "execution_count": null,
      "outputs": []
    }
  ],
  "metadata": {
    "kernelspec": {
      "name": "python36",
      "display_name": "Python 3.6",
      "language": "python"
    },
    "language_info": {
      "mimetype": "text/x-python",
      "nbconvert_exporter": "python",
      "name": "python",
      "pygments_lexer": "ipython3",
      "version": "3.6.6",
      "file_extension": ".py",
      "codemirror_mode": {
        "version": 3,
        "name": "ipython"
      }
    }
  },
  "nbformat": 4,
  "nbformat_minor": 2
}